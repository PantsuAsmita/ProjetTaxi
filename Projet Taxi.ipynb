{
 "cells": [
  {
   "cell_type": "markdown",
   "id": "aea1e7ed",
   "metadata": {},
   "source": [
    "## <center>Projet VitaliTaxi</center>\n",
    "## <center>Les courses de taxi New-Yorkais</center>"
   ]
  },
  {
   "cell_type": "markdown",
   "id": "55964b10",
   "metadata": {},
   "source": [
    "Modifier le format des variables liés à la date, faire durée trajet"
   ]
  },
  {
   "cell_type": "markdown",
   "id": "ebffbe52",
   "metadata": {},
   "source": [
    "## Partie 1 : Exploration et Préparation des données"
   ]
  },
  {
   "cell_type": "markdown",
   "id": "02f1ef21",
   "metadata": {},
   "source": [
    "### 1. Importation des données des courses de taxi jaunes"
   ]
  },
  {
   "cell_type": "markdown",
   "id": "9e83c908",
   "metadata": {},
   "source": [
    "Pour commencer on va importer les bibliothèque nécessaires "
   ]
  },
  {
   "cell_type": "code",
   "execution_count": 1,
   "id": "56777593",
   "metadata": {},
   "outputs": [],
   "source": [
    "#!pip install pyarrow\n",
    "#!pip install xgboost"
   ]
  },
  {
   "cell_type": "code",
   "execution_count": 2,
   "id": "848ceaf9",
   "metadata": {},
   "outputs": [],
   "source": [
    "import pandas as pd # bibliothèque de manipulation de données tabulaires\n",
    "import numpy as np #  bibliothèque de manipulation des tableaux de données multidimensionnels\n",
    "import matplotlib.pyplot as plt # bibliothèque de visualisation de données\n",
    "import seaborn as sns #  bibliothèque de visualisation de données : graphiques statistiques\n",
    "import pyarrow.parquet as pq"
   ]
  },
  {
   "cell_type": "markdown",
   "id": "8af303dc",
   "metadata": {},
   "source": [
    "On importe les données yellow_tripdata_2023-03"
   ]
  },
  {
   "cell_type": "code",
   "execution_count": 3,
   "id": "7b73f70e",
   "metadata": {},
   "outputs": [
    {
     "name": "stdout",
     "output_type": "stream",
     "text": [
      "Nombre de lignes :  3403766\n",
      "Nombre de variables :  19\n"
     ]
    }
   ],
   "source": [
    "trips = pq.read_table('yellow_tripdata_2023-03.parquet')\n",
    "trips = trips.to_pandas()\n",
    "\n",
    "print(\"Nombre de lignes : \" , trips.shape[0])\n",
    "print(\"Nombre de variables : \",trips.shape[1] )"
   ]
  },
  {
   "cell_type": "code",
   "execution_count": 4,
   "id": "0c2e4769",
   "metadata": {},
   "outputs": [
    {
     "data": {
      "text/html": [
       "<div>\n",
       "<style scoped>\n",
       "    .dataframe tbody tr th:only-of-type {\n",
       "        vertical-align: middle;\n",
       "    }\n",
       "\n",
       "    .dataframe tbody tr th {\n",
       "        vertical-align: top;\n",
       "    }\n",
       "\n",
       "    .dataframe thead th {\n",
       "        text-align: right;\n",
       "    }\n",
       "</style>\n",
       "<table border=\"1\" class=\"dataframe\">\n",
       "  <thead>\n",
       "    <tr style=\"text-align: right;\">\n",
       "      <th></th>\n",
       "      <th>VendorID</th>\n",
       "      <th>tpep_pickup_datetime</th>\n",
       "      <th>tpep_dropoff_datetime</th>\n",
       "      <th>passenger_count</th>\n",
       "      <th>trip_distance</th>\n",
       "      <th>RatecodeID</th>\n",
       "      <th>store_and_fwd_flag</th>\n",
       "      <th>PULocationID</th>\n",
       "      <th>DOLocationID</th>\n",
       "      <th>payment_type</th>\n",
       "      <th>fare_amount</th>\n",
       "      <th>extra</th>\n",
       "      <th>mta_tax</th>\n",
       "      <th>tip_amount</th>\n",
       "      <th>tolls_amount</th>\n",
       "      <th>improvement_surcharge</th>\n",
       "      <th>total_amount</th>\n",
       "      <th>congestion_surcharge</th>\n",
       "      <th>Airport_fee</th>\n",
       "    </tr>\n",
       "  </thead>\n",
       "  <tbody>\n",
       "    <tr>\n",
       "      <th>0</th>\n",
       "      <td>2</td>\n",
       "      <td>2023-03-01 00:06:43</td>\n",
       "      <td>2023-03-01 00:16:43</td>\n",
       "      <td>1.0</td>\n",
       "      <td>0.00</td>\n",
       "      <td>1.0</td>\n",
       "      <td>N</td>\n",
       "      <td>238</td>\n",
       "      <td>42</td>\n",
       "      <td>2</td>\n",
       "      <td>8.6</td>\n",
       "      <td>1.0</td>\n",
       "      <td>0.5</td>\n",
       "      <td>0.00</td>\n",
       "      <td>0.0</td>\n",
       "      <td>1.0</td>\n",
       "      <td>11.10</td>\n",
       "      <td>0.0</td>\n",
       "      <td>0.00</td>\n",
       "    </tr>\n",
       "    <tr>\n",
       "      <th>1</th>\n",
       "      <td>2</td>\n",
       "      <td>2023-03-01 00:08:25</td>\n",
       "      <td>2023-03-01 00:39:30</td>\n",
       "      <td>2.0</td>\n",
       "      <td>12.40</td>\n",
       "      <td>1.0</td>\n",
       "      <td>N</td>\n",
       "      <td>138</td>\n",
       "      <td>231</td>\n",
       "      <td>1</td>\n",
       "      <td>52.7</td>\n",
       "      <td>6.0</td>\n",
       "      <td>0.5</td>\n",
       "      <td>12.54</td>\n",
       "      <td>0.0</td>\n",
       "      <td>1.0</td>\n",
       "      <td>76.49</td>\n",
       "      <td>2.5</td>\n",
       "      <td>1.25</td>\n",
       "    </tr>\n",
       "    <tr>\n",
       "      <th>2</th>\n",
       "      <td>1</td>\n",
       "      <td>2023-03-01 00:15:04</td>\n",
       "      <td>2023-03-01 00:29:26</td>\n",
       "      <td>0.0</td>\n",
       "      <td>3.30</td>\n",
       "      <td>1.0</td>\n",
       "      <td>N</td>\n",
       "      <td>140</td>\n",
       "      <td>186</td>\n",
       "      <td>1</td>\n",
       "      <td>18.4</td>\n",
       "      <td>3.5</td>\n",
       "      <td>0.5</td>\n",
       "      <td>4.65</td>\n",
       "      <td>0.0</td>\n",
       "      <td>1.0</td>\n",
       "      <td>28.05</td>\n",
       "      <td>2.5</td>\n",
       "      <td>0.00</td>\n",
       "    </tr>\n",
       "    <tr>\n",
       "      <th>3</th>\n",
       "      <td>1</td>\n",
       "      <td>2023-03-01 00:49:37</td>\n",
       "      <td>2023-03-01 01:01:05</td>\n",
       "      <td>1.0</td>\n",
       "      <td>2.90</td>\n",
       "      <td>1.0</td>\n",
       "      <td>N</td>\n",
       "      <td>140</td>\n",
       "      <td>43</td>\n",
       "      <td>1</td>\n",
       "      <td>15.6</td>\n",
       "      <td>3.5</td>\n",
       "      <td>0.5</td>\n",
       "      <td>4.10</td>\n",
       "      <td>0.0</td>\n",
       "      <td>1.0</td>\n",
       "      <td>24.70</td>\n",
       "      <td>2.5</td>\n",
       "      <td>0.00</td>\n",
       "    </tr>\n",
       "    <tr>\n",
       "      <th>4</th>\n",
       "      <td>2</td>\n",
       "      <td>2023-03-01 00:08:04</td>\n",
       "      <td>2023-03-01 00:11:06</td>\n",
       "      <td>1.0</td>\n",
       "      <td>1.23</td>\n",
       "      <td>1.0</td>\n",
       "      <td>N</td>\n",
       "      <td>79</td>\n",
       "      <td>137</td>\n",
       "      <td>1</td>\n",
       "      <td>7.2</td>\n",
       "      <td>1.0</td>\n",
       "      <td>0.5</td>\n",
       "      <td>2.44</td>\n",
       "      <td>0.0</td>\n",
       "      <td>1.0</td>\n",
       "      <td>14.64</td>\n",
       "      <td>2.5</td>\n",
       "      <td>0.00</td>\n",
       "    </tr>\n",
       "  </tbody>\n",
       "</table>\n",
       "</div>"
      ],
      "text/plain": [
       "   VendorID tpep_pickup_datetime tpep_dropoff_datetime  passenger_count  \\\n",
       "0         2  2023-03-01 00:06:43   2023-03-01 00:16:43              1.0   \n",
       "1         2  2023-03-01 00:08:25   2023-03-01 00:39:30              2.0   \n",
       "2         1  2023-03-01 00:15:04   2023-03-01 00:29:26              0.0   \n",
       "3         1  2023-03-01 00:49:37   2023-03-01 01:01:05              1.0   \n",
       "4         2  2023-03-01 00:08:04   2023-03-01 00:11:06              1.0   \n",
       "\n",
       "   trip_distance  RatecodeID store_and_fwd_flag  PULocationID  DOLocationID  \\\n",
       "0           0.00         1.0                  N           238            42   \n",
       "1          12.40         1.0                  N           138           231   \n",
       "2           3.30         1.0                  N           140           186   \n",
       "3           2.90         1.0                  N           140            43   \n",
       "4           1.23         1.0                  N            79           137   \n",
       "\n",
       "   payment_type  fare_amount  extra  mta_tax  tip_amount  tolls_amount  \\\n",
       "0             2          8.6    1.0      0.5        0.00           0.0   \n",
       "1             1         52.7    6.0      0.5       12.54           0.0   \n",
       "2             1         18.4    3.5      0.5        4.65           0.0   \n",
       "3             1         15.6    3.5      0.5        4.10           0.0   \n",
       "4             1          7.2    1.0      0.5        2.44           0.0   \n",
       "\n",
       "   improvement_surcharge  total_amount  congestion_surcharge  Airport_fee  \n",
       "0                    1.0         11.10                   0.0         0.00  \n",
       "1                    1.0         76.49                   2.5         1.25  \n",
       "2                    1.0         28.05                   2.5         0.00  \n",
       "3                    1.0         24.70                   2.5         0.00  \n",
       "4                    1.0         14.64                   2.5         0.00  "
      ]
     },
     "execution_count": 4,
     "metadata": {},
     "output_type": "execute_result"
    }
   ],
   "source": [
    "trips.head()"
   ]
  },
  {
   "cell_type": "markdown",
   "id": "c237495d",
   "metadata": {},
   "source": [
    "Opération sur le temps et la durée de la course ⌚"
   ]
  },
  {
   "cell_type": "code",
   "execution_count": 5,
   "id": "a8a85d4f",
   "metadata": {},
   "outputs": [
    {
     "data": {
      "text/html": [
       "<div>\n",
       "<style scoped>\n",
       "    .dataframe tbody tr th:only-of-type {\n",
       "        vertical-align: middle;\n",
       "    }\n",
       "\n",
       "    .dataframe tbody tr th {\n",
       "        vertical-align: top;\n",
       "    }\n",
       "\n",
       "    .dataframe thead th {\n",
       "        text-align: right;\n",
       "    }\n",
       "</style>\n",
       "<table border=\"1\" class=\"dataframe\">\n",
       "  <thead>\n",
       "    <tr style=\"text-align: right;\">\n",
       "      <th></th>\n",
       "      <th>year</th>\n",
       "      <th>day</th>\n",
       "      <th>hour</th>\n",
       "      <th>trip_duration</th>\n",
       "      <th>VendorID</th>\n",
       "      <th>tpep_pickup_datetime</th>\n",
       "      <th>tpep_dropoff_datetime</th>\n",
       "      <th>passenger_count</th>\n",
       "      <th>trip_distance</th>\n",
       "      <th>RatecodeID</th>\n",
       "      <th>...</th>\n",
       "      <th>payment_type</th>\n",
       "      <th>fare_amount</th>\n",
       "      <th>extra</th>\n",
       "      <th>mta_tax</th>\n",
       "      <th>tip_amount</th>\n",
       "      <th>tolls_amount</th>\n",
       "      <th>improvement_surcharge</th>\n",
       "      <th>total_amount</th>\n",
       "      <th>congestion_surcharge</th>\n",
       "      <th>Airport_fee</th>\n",
       "    </tr>\n",
       "  </thead>\n",
       "  <tbody>\n",
       "    <tr>\n",
       "      <th>0</th>\n",
       "      <td>2023</td>\n",
       "      <td>1</td>\n",
       "      <td>0</td>\n",
       "      <td>0.166667</td>\n",
       "      <td>2</td>\n",
       "      <td>2023-03-01 00:06:43</td>\n",
       "      <td>2023-03-01 00:16:43</td>\n",
       "      <td>1.0</td>\n",
       "      <td>0.00</td>\n",
       "      <td>1.0</td>\n",
       "      <td>...</td>\n",
       "      <td>2</td>\n",
       "      <td>8.6</td>\n",
       "      <td>1.0</td>\n",
       "      <td>0.5</td>\n",
       "      <td>0.00</td>\n",
       "      <td>0.0</td>\n",
       "      <td>1.0</td>\n",
       "      <td>11.10</td>\n",
       "      <td>0.0</td>\n",
       "      <td>0.00</td>\n",
       "    </tr>\n",
       "    <tr>\n",
       "      <th>1</th>\n",
       "      <td>2023</td>\n",
       "      <td>1</td>\n",
       "      <td>0</td>\n",
       "      <td>0.518056</td>\n",
       "      <td>2</td>\n",
       "      <td>2023-03-01 00:08:25</td>\n",
       "      <td>2023-03-01 00:39:30</td>\n",
       "      <td>2.0</td>\n",
       "      <td>12.40</td>\n",
       "      <td>1.0</td>\n",
       "      <td>...</td>\n",
       "      <td>1</td>\n",
       "      <td>52.7</td>\n",
       "      <td>6.0</td>\n",
       "      <td>0.5</td>\n",
       "      <td>12.54</td>\n",
       "      <td>0.0</td>\n",
       "      <td>1.0</td>\n",
       "      <td>76.49</td>\n",
       "      <td>2.5</td>\n",
       "      <td>1.25</td>\n",
       "    </tr>\n",
       "    <tr>\n",
       "      <th>2</th>\n",
       "      <td>2023</td>\n",
       "      <td>1</td>\n",
       "      <td>0</td>\n",
       "      <td>0.239444</td>\n",
       "      <td>1</td>\n",
       "      <td>2023-03-01 00:15:04</td>\n",
       "      <td>2023-03-01 00:29:26</td>\n",
       "      <td>0.0</td>\n",
       "      <td>3.30</td>\n",
       "      <td>1.0</td>\n",
       "      <td>...</td>\n",
       "      <td>1</td>\n",
       "      <td>18.4</td>\n",
       "      <td>3.5</td>\n",
       "      <td>0.5</td>\n",
       "      <td>4.65</td>\n",
       "      <td>0.0</td>\n",
       "      <td>1.0</td>\n",
       "      <td>28.05</td>\n",
       "      <td>2.5</td>\n",
       "      <td>0.00</td>\n",
       "    </tr>\n",
       "    <tr>\n",
       "      <th>3</th>\n",
       "      <td>2023</td>\n",
       "      <td>1</td>\n",
       "      <td>0</td>\n",
       "      <td>0.191111</td>\n",
       "      <td>1</td>\n",
       "      <td>2023-03-01 00:49:37</td>\n",
       "      <td>2023-03-01 01:01:05</td>\n",
       "      <td>1.0</td>\n",
       "      <td>2.90</td>\n",
       "      <td>1.0</td>\n",
       "      <td>...</td>\n",
       "      <td>1</td>\n",
       "      <td>15.6</td>\n",
       "      <td>3.5</td>\n",
       "      <td>0.5</td>\n",
       "      <td>4.10</td>\n",
       "      <td>0.0</td>\n",
       "      <td>1.0</td>\n",
       "      <td>24.70</td>\n",
       "      <td>2.5</td>\n",
       "      <td>0.00</td>\n",
       "    </tr>\n",
       "    <tr>\n",
       "      <th>4</th>\n",
       "      <td>2023</td>\n",
       "      <td>1</td>\n",
       "      <td>0</td>\n",
       "      <td>0.050556</td>\n",
       "      <td>2</td>\n",
       "      <td>2023-03-01 00:08:04</td>\n",
       "      <td>2023-03-01 00:11:06</td>\n",
       "      <td>1.0</td>\n",
       "      <td>1.23</td>\n",
       "      <td>1.0</td>\n",
       "      <td>...</td>\n",
       "      <td>1</td>\n",
       "      <td>7.2</td>\n",
       "      <td>1.0</td>\n",
       "      <td>0.5</td>\n",
       "      <td>2.44</td>\n",
       "      <td>0.0</td>\n",
       "      <td>1.0</td>\n",
       "      <td>14.64</td>\n",
       "      <td>2.5</td>\n",
       "      <td>0.00</td>\n",
       "    </tr>\n",
       "  </tbody>\n",
       "</table>\n",
       "<p>5 rows × 23 columns</p>\n",
       "</div>"
      ],
      "text/plain": [
       "   year  day  hour  trip_duration  VendorID tpep_pickup_datetime  \\\n",
       "0  2023    1     0       0.166667         2  2023-03-01 00:06:43   \n",
       "1  2023    1     0       0.518056         2  2023-03-01 00:08:25   \n",
       "2  2023    1     0       0.239444         1  2023-03-01 00:15:04   \n",
       "3  2023    1     0       0.191111         1  2023-03-01 00:49:37   \n",
       "4  2023    1     0       0.050556         2  2023-03-01 00:08:04   \n",
       "\n",
       "  tpep_dropoff_datetime  passenger_count  trip_distance  RatecodeID  ...  \\\n",
       "0   2023-03-01 00:16:43              1.0           0.00         1.0  ...   \n",
       "1   2023-03-01 00:39:30              2.0          12.40         1.0  ...   \n",
       "2   2023-03-01 00:29:26              0.0           3.30         1.0  ...   \n",
       "3   2023-03-01 01:01:05              1.0           2.90         1.0  ...   \n",
       "4   2023-03-01 00:11:06              1.0           1.23         1.0  ...   \n",
       "\n",
       "  payment_type  fare_amount  extra  mta_tax  tip_amount  tolls_amount  \\\n",
       "0            2          8.6    1.0      0.5        0.00           0.0   \n",
       "1            1         52.7    6.0      0.5       12.54           0.0   \n",
       "2            1         18.4    3.5      0.5        4.65           0.0   \n",
       "3            1         15.6    3.5      0.5        4.10           0.0   \n",
       "4            1          7.2    1.0      0.5        2.44           0.0   \n",
       "\n",
       "   improvement_surcharge  total_amount  congestion_surcharge  Airport_fee  \n",
       "0                    1.0         11.10                   0.0         0.00  \n",
       "1                    1.0         76.49                   2.5         1.25  \n",
       "2                    1.0         28.05                   2.5         0.00  \n",
       "3                    1.0         24.70                   2.5         0.00  \n",
       "4                    1.0         14.64                   2.5         0.00  \n",
       "\n",
       "[5 rows x 23 columns]"
      ]
     },
     "execution_count": 5,
     "metadata": {},
     "output_type": "execute_result"
    }
   ],
   "source": [
    "trips.insert(0, 'year', trips['tpep_pickup_datetime'].dt.year)\n",
    "trips.insert(1, 'day', trips['tpep_pickup_datetime'].dt.day)\n",
    "trips.insert(2, 'hour', trips['tpep_pickup_datetime'].dt.hour)\n",
    "trips.insert(3, 'trip_duration', (trips['tpep_dropoff_datetime'] - trips['tpep_pickup_datetime']).dt.total_seconds() / 3600)\n",
    "trips.head()"
   ]
  },
  {
   "cell_type": "code",
   "execution_count": 6,
   "id": "5badb7c2",
   "metadata": {},
   "outputs": [
    {
     "data": {
      "image/png": "[encoded data removed]",
      "text/plain": [
       "<Figure size 432x288 with 1 Axes>"
      ]
     },
     "metadata": {
      "needs_background": "light"
     },
     "output_type": "display_data"
    }
   ],
   "source": [
    "import seaborn as sns\n",
    "\n",
    "sns.boxplot(x=trips['total_amount'])\n",
    "plt.xlabel('Total Amount')\n",
    "plt.title('Box Plot of Total Amount')\n",
    "plt.show()"
   ]
  },
  {
   "cell_type": "markdown",
   "id": "f5b3fa0a",
   "metadata": {},
   "source": [
    "On remarque des valeurs aberrantes sur le coût des courses.  \n",
    "On les supprime."
   ]
  },
  {
   "cell_type": "code",
   "execution_count": 7,
   "id": "22590662",
   "metadata": {},
   "outputs": [],
   "source": [
    "trips = trips[trips['total_amount'] <= 2000]\n",
    "trips = trips[trips['total_amount'] > 0]"
   ]
  },
  {
   "cell_type": "code",
   "execution_count": 8,
   "id": "f1423231",
   "metadata": {},
   "outputs": [
    {
     "data": {
      "image/png": "[encoded data removed]",
      "text/plain": [
       "<Figure size 432x288 with 1 Axes>"
      ]
     },
     "metadata": {
      "needs_background": "light"
     },
     "output_type": "display_data"
    }
   ],
   "source": [
    "import seaborn as sns\n",
    "\n",
    "sns.boxplot(x=trips['total_amount'])\n",
    "plt.xlabel('Total Amount')\n",
    "plt.title('Box Plot of Total Amount')\n",
    "plt.show()"
   ]
  },
  {
   "cell_type": "code",
   "execution_count": 9,
   "id": "2be98093",
   "metadata": {},
   "outputs": [
    {
     "data": {
      "text/plain": [
       "1000.0"
      ]
     },
     "execution_count": 9,
     "metadata": {},
     "output_type": "execute_result"
    }
   ],
   "source": [
    "trips['total_amount'].max()"
   ]
  },
  {
   "cell_type": "markdown",
   "id": "a7774fc2",
   "metadata": {},
   "source": [
    "Description des Données"
   ]
  },
  {
   "cell_type": "code",
   "execution_count": 10,
   "id": "439b6905",
   "metadata": {},
   "outputs": [
    {
     "name": "stdout",
     "output_type": "stream",
     "text": [
      "<class 'pandas.core.frame.DataFrame'>\n",
      "Int64Index: 3373402 entries, 0 to 3403765\n",
      "Data columns (total 23 columns):\n",
      " #   Column                 Dtype         \n",
      "---  ------                 -----         \n",
      " 0   year                   int64         \n",
      " 1   day                    int64         \n",
      " 2   hour                   int64         \n",
      " 3   trip_duration          float64       \n",
      " 4   VendorID               int32         \n",
      " 5   tpep_pickup_datetime   datetime64[ns]\n",
      " 6   tpep_dropoff_datetime  datetime64[ns]\n",
      " 7   passenger_count        float64       \n",
      " 8   trip_distance          float64       \n",
      " 9   RatecodeID             float64       \n",
      " 10  store_and_fwd_flag     object        \n",
      " 11  PULocationID           int32         \n",
      " 12  DOLocationID           int32         \n",
      " 13  payment_type           int64         \n",
      " 14  fare_amount            float64       \n",
      " 15  extra                  float64       \n",
      " 16  mta_tax                float64       \n",
      " 17  tip_amount             float64       \n",
      " 18  tolls_amount           float64       \n",
      " 19  improvement_surcharge  float64       \n",
      " 20  total_amount           float64       \n",
      " 21  congestion_surcharge   float64       \n",
      " 22  Airport_fee            float64       \n",
      "dtypes: datetime64[ns](2), float64(13), int32(3), int64(4), object(1)\n",
      "memory usage: 579.1+ MB\n",
      "None\n"
     ]
    }
   ],
   "source": [
    "print(trips.info())"
   ]
  },
  {
   "cell_type": "markdown",
   "id": "608ae6d1",
   "metadata": {},
   "source": [
    "### 2. Exploration et visualisation des données"
   ]
  },
  {
   "cell_type": "code",
   "execution_count": 11,
   "id": "81c7ec6d",
   "metadata": {},
   "outputs": [
    {
     "data": {
      "text/html": [
       "<div>\n",
       "<style scoped>\n",
       "    .dataframe tbody tr th:only-of-type {\n",
       "        vertical-align: middle;\n",
       "    }\n",
       "\n",
       "    .dataframe tbody tr th {\n",
       "        vertical-align: top;\n",
       "    }\n",
       "\n",
       "    .dataframe thead th {\n",
       "        text-align: right;\n",
       "    }\n",
       "</style>\n",
       "<table border=\"1\" class=\"dataframe\">\n",
       "  <thead>\n",
       "    <tr style=\"text-align: right;\">\n",
       "      <th></th>\n",
       "      <th>year</th>\n",
       "      <th>day</th>\n",
       "      <th>hour</th>\n",
       "      <th>trip_duration</th>\n",
       "      <th>VendorID</th>\n",
       "      <th>passenger_count</th>\n",
       "      <th>trip_distance</th>\n",
       "      <th>RatecodeID</th>\n",
       "      <th>PULocationID</th>\n",
       "      <th>DOLocationID</th>\n",
       "      <th>payment_type</th>\n",
       "      <th>fare_amount</th>\n",
       "      <th>extra</th>\n",
       "      <th>mta_tax</th>\n",
       "      <th>tip_amount</th>\n",
       "      <th>tolls_amount</th>\n",
       "      <th>improvement_surcharge</th>\n",
       "      <th>total_amount</th>\n",
       "      <th>congestion_surcharge</th>\n",
       "      <th>Airport_fee</th>\n",
       "    </tr>\n",
       "  </thead>\n",
       "  <tbody>\n",
       "    <tr>\n",
       "      <th>count</th>\n",
       "      <td>3.373402e+06</td>\n",
       "      <td>3.373402e+06</td>\n",
       "      <td>3.373402e+06</td>\n",
       "      <td>3.373402e+06</td>\n",
       "      <td>3.373402e+06</td>\n",
       "      <td>3.285836e+06</td>\n",
       "      <td>3.373402e+06</td>\n",
       "      <td>3.285836e+06</td>\n",
       "      <td>3.373402e+06</td>\n",
       "      <td>3.373402e+06</td>\n",
       "      <td>3.373402e+06</td>\n",
       "      <td>3.373402e+06</td>\n",
       "      <td>3.373402e+06</td>\n",
       "      <td>3.373402e+06</td>\n",
       "      <td>3.373402e+06</td>\n",
       "      <td>3.373402e+06</td>\n",
       "      <td>3.373402e+06</td>\n",
       "      <td>3.373402e+06</td>\n",
       "      <td>3.285836e+06</td>\n",
       "      <td>3.285836e+06</td>\n",
       "    </tr>\n",
       "    <tr>\n",
       "      <th>mean</th>\n",
       "      <td>2.023000e+03</td>\n",
       "      <td>1.588351e+01</td>\n",
       "      <td>1.434647e+01</td>\n",
       "      <td>2.821177e-01</td>\n",
       "      <td>1.722987e+00</td>\n",
       "      <td>1.351669e+00</td>\n",
       "      <td>3.908729e+00</td>\n",
       "      <td>1.627209e+00</td>\n",
       "      <td>1.654958e+02</td>\n",
       "      <td>1.641508e+02</td>\n",
       "      <td>1.168161e+00</td>\n",
       "      <td>1.924940e+01</td>\n",
       "      <td>1.653121e+00</td>\n",
       "      <td>4.961141e-01</td>\n",
       "      <td>3.526011e+00</td>\n",
       "      <td>5.764111e-01</td>\n",
       "      <td>9.986853e-01</td>\n",
       "      <td>2.826920e+01</td>\n",
       "      <td>2.314008e+00</td>\n",
       "      <td>1.064040e-01</td>\n",
       "    </tr>\n",
       "    <tr>\n",
       "      <th>std</th>\n",
       "      <td>3.471328e-02</td>\n",
       "      <td>8.985260e+00</td>\n",
       "      <td>5.754801e+00</td>\n",
       "      <td>7.316013e-01</td>\n",
       "      <td>4.601166e-01</td>\n",
       "      <td>8.874471e-01</td>\n",
       "      <td>1.924153e+02</td>\n",
       "      <td>7.386318e+00</td>\n",
       "      <td>6.374099e+01</td>\n",
       "      <td>6.967070e+01</td>\n",
       "      <td>4.890373e-01</td>\n",
       "      <td>1.778071e+01</td>\n",
       "      <td>1.828223e+00</td>\n",
       "      <td>4.431644e-02</td>\n",
       "      <td>3.997750e+00</td>\n",
       "      <td>2.117724e+00</td>\n",
       "      <td>3.299791e-02</td>\n",
       "      <td>2.226192e+01</td>\n",
       "      <td>6.560377e-01</td>\n",
       "      <td>3.488313e-01</td>\n",
       "    </tr>\n",
       "    <tr>\n",
       "      <th>min</th>\n",
       "      <td>2.001000e+03</td>\n",
       "      <td>1.000000e+00</td>\n",
       "      <td>0.000000e+00</td>\n",
       "      <td>-7.937500e+00</td>\n",
       "      <td>1.000000e+00</td>\n",
       "      <td>0.000000e+00</td>\n",
       "      <td>0.000000e+00</td>\n",
       "      <td>1.000000e+00</td>\n",
       "      <td>1.000000e+00</td>\n",
       "      <td>1.000000e+00</td>\n",
       "      <td>0.000000e+00</td>\n",
       "      <td>-1.719000e+01</td>\n",
       "      <td>0.000000e+00</td>\n",
       "      <td>-5.000000e-01</td>\n",
       "      <td>-4.420000e+00</td>\n",
       "      <td>0.000000e+00</td>\n",
       "      <td>0.000000e+00</td>\n",
       "      <td>1.000000e+00</td>\n",
       "      <td>0.000000e+00</td>\n",
       "      <td>0.000000e+00</td>\n",
       "    </tr>\n",
       "    <tr>\n",
       "      <th>25%</th>\n",
       "      <td>2.023000e+03</td>\n",
       "      <td>8.000000e+00</td>\n",
       "      <td>1.100000e+01</td>\n",
       "      <td>1.241667e-01</td>\n",
       "      <td>1.000000e+00</td>\n",
       "      <td>1.000000e+00</td>\n",
       "      <td>1.060000e+00</td>\n",
       "      <td>1.000000e+00</td>\n",
       "      <td>1.320000e+02</td>\n",
       "      <td>1.140000e+02</td>\n",
       "      <td>1.000000e+00</td>\n",
       "      <td>9.300000e+00</td>\n",
       "      <td>0.000000e+00</td>\n",
       "      <td>5.000000e-01</td>\n",
       "      <td>1.000000e+00</td>\n",
       "      <td>0.000000e+00</td>\n",
       "      <td>1.000000e+00</td>\n",
       "      <td>1.595000e+01</td>\n",
       "      <td>2.500000e+00</td>\n",
       "      <td>0.000000e+00</td>\n",
       "    </tr>\n",
       "    <tr>\n",
       "      <th>50%</th>\n",
       "      <td>2.023000e+03</td>\n",
       "      <td>1.600000e+01</td>\n",
       "      <td>1.500000e+01</td>\n",
       "      <td>2.030556e-01</td>\n",
       "      <td>2.000000e+00</td>\n",
       "      <td>1.000000e+00</td>\n",
       "      <td>1.800000e+00</td>\n",
       "      <td>1.000000e+00</td>\n",
       "      <td>1.620000e+02</td>\n",
       "      <td>1.620000e+02</td>\n",
       "      <td>1.000000e+00</td>\n",
       "      <td>1.350000e+01</td>\n",
       "      <td>1.000000e+00</td>\n",
       "      <td>5.000000e-01</td>\n",
       "      <td>2.850000e+00</td>\n",
       "      <td>0.000000e+00</td>\n",
       "      <td>1.000000e+00</td>\n",
       "      <td>2.064000e+01</td>\n",
       "      <td>2.500000e+00</td>\n",
       "      <td>0.000000e+00</td>\n",
       "    </tr>\n",
       "    <tr>\n",
       "      <th>75%</th>\n",
       "      <td>2.023000e+03</td>\n",
       "      <td>2.400000e+01</td>\n",
       "      <td>1.900000e+01</td>\n",
       "      <td>3.277778e-01</td>\n",
       "      <td>2.000000e+00</td>\n",
       "      <td>1.000000e+00</td>\n",
       "      <td>3.390000e+00</td>\n",
       "      <td>1.000000e+00</td>\n",
       "      <td>2.330000e+02</td>\n",
       "      <td>2.340000e+02</td>\n",
       "      <td>1.000000e+00</td>\n",
       "      <td>2.120000e+01</td>\n",
       "      <td>2.500000e+00</td>\n",
       "      <td>5.000000e-01</td>\n",
       "      <td>4.340000e+00</td>\n",
       "      <td>0.000000e+00</td>\n",
       "      <td>1.000000e+00</td>\n",
       "      <td>2.985000e+01</td>\n",
       "      <td>2.500000e+00</td>\n",
       "      <td>0.000000e+00</td>\n",
       "    </tr>\n",
       "    <tr>\n",
       "      <th>max</th>\n",
       "      <td>2.023000e+03</td>\n",
       "      <td>3.100000e+01</td>\n",
       "      <td>2.300000e+01</td>\n",
       "      <td>9.396194e+01</td>\n",
       "      <td>6.000000e+00</td>\n",
       "      <td>9.000000e+00</td>\n",
       "      <td>2.169870e+05</td>\n",
       "      <td>9.900000e+01</td>\n",
       "      <td>2.650000e+02</td>\n",
       "      <td>2.650000e+02</td>\n",
       "      <td>4.000000e+00</td>\n",
       "      <td>9.599000e+02</td>\n",
       "      <td>1.375000e+01</td>\n",
       "      <td>4.000000e+00</td>\n",
       "      <td>9.843000e+02</td>\n",
       "      <td>1.770000e+02</td>\n",
       "      <td>1.000000e+00</td>\n",
       "      <td>1.000000e+03</td>\n",
       "      <td>2.500000e+00</td>\n",
       "      <td>1.250000e+00</td>\n",
       "    </tr>\n",
       "  </tbody>\n",
       "</table>\n",
       "</div>"
      ],
      "text/plain": [
       "               year           day          hour  trip_duration      VendorID  \\\n",
       "count  3.373402e+06  3.373402e+06  3.373402e+06   3.373402e+06  3.373402e+06   \n",
       "mean   2.023000e+03  1.588351e+01  1.434647e+01   2.821177e-01  1.722987e+00   \n",
       "std    3.471328e-02  8.985260e+00  5.754801e+00   7.316013e-01  4.601166e-01   \n",
       "min    2.001000e+03  1.000000e+00  0.000000e+00  -7.937500e+00  1.000000e+00   \n",
       "25%    2.023000e+03  8.000000e+00  1.100000e+01   1.241667e-01  1.000000e+00   \n",
       "50%    2.023000e+03  1.600000e+01  1.500000e+01   2.030556e-01  2.000000e+00   \n",
       "75%    2.023000e+03  2.400000e+01  1.900000e+01   3.277778e-01  2.000000e+00   \n",
       "max    2.023000e+03  3.100000e+01  2.300000e+01   9.396194e+01  6.000000e+00   \n",
       "\n",
       "       passenger_count  trip_distance    RatecodeID  PULocationID  \\\n",
       "count     3.285836e+06   3.373402e+06  3.285836e+06  3.373402e+06   \n",
       "mean      1.351669e+00   3.908729e+00  1.627209e+00  1.654958e+02   \n",
       "std       8.874471e-01   1.924153e+02  7.386318e+00  6.374099e+01   \n",
       "min       0.000000e+00   0.000000e+00  1.000000e+00  1.000000e+00   \n",
       "25%       1.000000e+00   1.060000e+00  1.000000e+00  1.320000e+02   \n",
       "50%       1.000000e+00   1.800000e+00  1.000000e+00  1.620000e+02   \n",
       "75%       1.000000e+00   3.390000e+00  1.000000e+00  2.330000e+02   \n",
       "max       9.000000e+00   2.169870e+05  9.900000e+01  2.650000e+02   \n",
       "\n",
       "       DOLocationID  payment_type   fare_amount         extra       mta_tax  \\\n",
       "count  3.373402e+06  3.373402e+06  3.373402e+06  3.373402e+06  3.373402e+06   \n",
       "mean   1.641508e+02  1.168161e+00  1.924940e+01  1.653121e+00  4.961141e-01   \n",
       "std    6.967070e+01  4.890373e-01  1.778071e+01  1.828223e+00  4.431644e-02   \n",
       "min    1.000000e+00  0.000000e+00 -1.719000e+01  0.000000e+00 -5.000000e-01   \n",
       "25%    1.140000e+02  1.000000e+00  9.300000e+00  0.000000e+00  5.000000e-01   \n",
       "50%    1.620000e+02  1.000000e+00  1.350000e+01  1.000000e+00  5.000000e-01   \n",
       "75%    2.340000e+02  1.000000e+00  2.120000e+01  2.500000e+00  5.000000e-01   \n",
       "max    2.650000e+02  4.000000e+00  9.599000e+02  1.375000e+01  4.000000e+00   \n",
       "\n",
       "         tip_amount  tolls_amount  improvement_surcharge  total_amount  \\\n",
       "count  3.373402e+06  3.373402e+06           3.373402e+06  3.373402e+06   \n",
       "mean   3.526011e+00  5.764111e-01           9.986853e-01  2.826920e+01   \n",
       "std    3.997750e+00  2.117724e+00           3.299791e-02  2.226192e+01   \n",
       "min   -4.420000e+00  0.000000e+00           0.000000e+00  1.000000e+00   \n",
       "25%    1.000000e+00  0.000000e+00           1.000000e+00  1.595000e+01   \n",
       "50%    2.850000e+00  0.000000e+00           1.000000e+00  2.064000e+01   \n",
       "75%    4.340000e+00  0.000000e+00           1.000000e+00  2.985000e+01   \n",
       "max    9.843000e+02  1.770000e+02           1.000000e+00  1.000000e+03   \n",
       "\n",
       "       congestion_surcharge   Airport_fee  \n",
       "count          3.285836e+06  3.285836e+06  \n",
       "mean           2.314008e+00  1.064040e-01  \n",
       "std            6.560377e-01  3.488313e-01  \n",
       "min            0.000000e+00  0.000000e+00  \n",
       "25%            2.500000e+00  0.000000e+00  \n",
       "50%            2.500000e+00  0.000000e+00  \n",
       "75%            2.500000e+00  0.000000e+00  \n",
       "max            2.500000e+00  1.250000e+00  "
      ]
     },
     "execution_count": 11,
     "metadata": {},
     "output_type": "execute_result"
    }
   ],
   "source": [
    "trips.describe()"
   ]
  },
  {
   "cell_type": "markdown",
   "id": "da274671",
   "metadata": {},
   "source": [
    "#### 2.1 Valeurs Manquantes"
   ]
  },
  {
   "cell_type": "markdown",
   "id": "b57e2e0e",
   "metadata": {},
   "source": [
    "Visualisation des données manquantes"
   ]
  },
  {
   "cell_type": "code",
   "execution_count": 12,
   "id": "996e3658",
   "metadata": {},
   "outputs": [
    {
     "data": {
      "text/plain": [
       "<AxesSubplot:>"
      ]
     },
     "execution_count": 12,
     "metadata": {},
     "output_type": "execute_result"
    },
    {
     "data": {
      "image/png": "[encoded data removed]",
      "text/plain": [
       "<Figure size 432x288 with 1 Axes>"
      ]
     },
     "metadata": {
      "needs_background": "light"
     },
     "output_type": "display_data"
    }
   ],
   "source": [
    "sns.heatmap(trips.isnull(), yticklabels=False, cbar=False, cmap='viridis')"
   ]
  },
  {
   "cell_type": "markdown",
   "id": "d03ccff1",
   "metadata": {},
   "source": [
    "Compter les valeurs manquantes par variable"
   ]
  },
  {
   "cell_type": "code",
   "execution_count": 13,
   "id": "fbf42c16",
   "metadata": {},
   "outputs": [
    {
     "name": "stdout",
     "output_type": "stream",
     "text": [
      "year                         0\n",
      "day                          0\n",
      "hour                         0\n",
      "trip_duration                0\n",
      "VendorID                     0\n",
      "tpep_pickup_datetime         0\n",
      "tpep_dropoff_datetime        0\n",
      "passenger_count          87566\n",
      "trip_distance                0\n",
      "RatecodeID               87566\n",
      "store_and_fwd_flag       87566\n",
      "PULocationID                 0\n",
      "DOLocationID                 0\n",
      "payment_type                 0\n",
      "fare_amount                  0\n",
      "extra                        0\n",
      "mta_tax                      0\n",
      "tip_amount                   0\n",
      "tolls_amount                 0\n",
      "improvement_surcharge        0\n",
      "total_amount                 0\n",
      "congestion_surcharge     87566\n",
      "Airport_fee              87566\n",
      "dtype: int64\n"
     ]
    }
   ],
   "source": [
    "missing_values = trips.isnull().sum()\n",
    "print(missing_values)"
   ]
  },
  {
   "cell_type": "markdown",
   "id": "a2a1a084",
   "metadata": {},
   "source": [
    "#### 2.2 Visualisation des Variables"
   ]
  },
  {
   "cell_type": "code",
   "execution_count": 14,
   "id": "31b3c419",
   "metadata": {},
   "outputs": [
    {
     "data": {
      "text/html": [
       "<div>\n",
       "<style scoped>\n",
       "    .dataframe tbody tr th:only-of-type {\n",
       "        vertical-align: middle;\n",
       "    }\n",
       "\n",
       "    .dataframe tbody tr th {\n",
       "        vertical-align: top;\n",
       "    }\n",
       "\n",
       "    .dataframe thead th {\n",
       "        text-align: right;\n",
       "    }\n",
       "</style>\n",
       "<table border=\"1\" class=\"dataframe\">\n",
       "  <thead>\n",
       "    <tr style=\"text-align: right;\">\n",
       "      <th></th>\n",
       "      <th>year</th>\n",
       "      <th>day</th>\n",
       "      <th>hour</th>\n",
       "      <th>trip_duration</th>\n",
       "      <th>VendorID</th>\n",
       "      <th>tpep_pickup_datetime</th>\n",
       "      <th>tpep_dropoff_datetime</th>\n",
       "      <th>passenger_count</th>\n",
       "      <th>trip_distance</th>\n",
       "      <th>RatecodeID</th>\n",
       "      <th>...</th>\n",
       "      <th>payment_type</th>\n",
       "      <th>fare_amount</th>\n",
       "      <th>extra</th>\n",
       "      <th>mta_tax</th>\n",
       "      <th>tip_amount</th>\n",
       "      <th>tolls_amount</th>\n",
       "      <th>improvement_surcharge</th>\n",
       "      <th>total_amount</th>\n",
       "      <th>congestion_surcharge</th>\n",
       "      <th>Airport_fee</th>\n",
       "    </tr>\n",
       "  </thead>\n",
       "  <tbody>\n",
       "    <tr>\n",
       "      <th>0</th>\n",
       "      <td>2023</td>\n",
       "      <td>1</td>\n",
       "      <td>0</td>\n",
       "      <td>0.166667</td>\n",
       "      <td>2</td>\n",
       "      <td>2023-03-01 00:06:43</td>\n",
       "      <td>2023-03-01 00:16:43</td>\n",
       "      <td>1.0</td>\n",
       "      <td>0.00</td>\n",
       "      <td>1.0</td>\n",
       "      <td>...</td>\n",
       "      <td>2</td>\n",
       "      <td>8.6</td>\n",
       "      <td>1.0</td>\n",
       "      <td>0.5</td>\n",
       "      <td>0.00</td>\n",
       "      <td>0.0</td>\n",
       "      <td>1.0</td>\n",
       "      <td>11.10</td>\n",
       "      <td>0.0</td>\n",
       "      <td>0.00</td>\n",
       "    </tr>\n",
       "    <tr>\n",
       "      <th>1</th>\n",
       "      <td>2023</td>\n",
       "      <td>1</td>\n",
       "      <td>0</td>\n",
       "      <td>0.518056</td>\n",
       "      <td>2</td>\n",
       "      <td>2023-03-01 00:08:25</td>\n",
       "      <td>2023-03-01 00:39:30</td>\n",
       "      <td>2.0</td>\n",
       "      <td>12.40</td>\n",
       "      <td>1.0</td>\n",
       "      <td>...</td>\n",
       "      <td>1</td>\n",
       "      <td>52.7</td>\n",
       "      <td>6.0</td>\n",
       "      <td>0.5</td>\n",
       "      <td>12.54</td>\n",
       "      <td>0.0</td>\n",
       "      <td>1.0</td>\n",
       "      <td>76.49</td>\n",
       "      <td>2.5</td>\n",
       "      <td>1.25</td>\n",
       "    </tr>\n",
       "    <tr>\n",
       "      <th>2</th>\n",
       "      <td>2023</td>\n",
       "      <td>1</td>\n",
       "      <td>0</td>\n",
       "      <td>0.239444</td>\n",
       "      <td>1</td>\n",
       "      <td>2023-03-01 00:15:04</td>\n",
       "      <td>2023-03-01 00:29:26</td>\n",
       "      <td>0.0</td>\n",
       "      <td>3.30</td>\n",
       "      <td>1.0</td>\n",
       "      <td>...</td>\n",
       "      <td>1</td>\n",
       "      <td>18.4</td>\n",
       "      <td>3.5</td>\n",
       "      <td>0.5</td>\n",
       "      <td>4.65</td>\n",
       "      <td>0.0</td>\n",
       "      <td>1.0</td>\n",
       "      <td>28.05</td>\n",
       "      <td>2.5</td>\n",
       "      <td>0.00</td>\n",
       "    </tr>\n",
       "    <tr>\n",
       "      <th>3</th>\n",
       "      <td>2023</td>\n",
       "      <td>1</td>\n",
       "      <td>0</td>\n",
       "      <td>0.191111</td>\n",
       "      <td>1</td>\n",
       "      <td>2023-03-01 00:49:37</td>\n",
       "      <td>2023-03-01 01:01:05</td>\n",
       "      <td>1.0</td>\n",
       "      <td>2.90</td>\n",
       "      <td>1.0</td>\n",
       "      <td>...</td>\n",
       "      <td>1</td>\n",
       "      <td>15.6</td>\n",
       "      <td>3.5</td>\n",
       "      <td>0.5</td>\n",
       "      <td>4.10</td>\n",
       "      <td>0.0</td>\n",
       "      <td>1.0</td>\n",
       "      <td>24.70</td>\n",
       "      <td>2.5</td>\n",
       "      <td>0.00</td>\n",
       "    </tr>\n",
       "    <tr>\n",
       "      <th>4</th>\n",
       "      <td>2023</td>\n",
       "      <td>1</td>\n",
       "      <td>0</td>\n",
       "      <td>0.050556</td>\n",
       "      <td>2</td>\n",
       "      <td>2023-03-01 00:08:04</td>\n",
       "      <td>2023-03-01 00:11:06</td>\n",
       "      <td>1.0</td>\n",
       "      <td>1.23</td>\n",
       "      <td>1.0</td>\n",
       "      <td>...</td>\n",
       "      <td>1</td>\n",
       "      <td>7.2</td>\n",
       "      <td>1.0</td>\n",
       "      <td>0.5</td>\n",
       "      <td>2.44</td>\n",
       "      <td>0.0</td>\n",
       "      <td>1.0</td>\n",
       "      <td>14.64</td>\n",
       "      <td>2.5</td>\n",
       "      <td>0.00</td>\n",
       "    </tr>\n",
       "  </tbody>\n",
       "</table>\n",
       "<p>5 rows × 23 columns</p>\n",
       "</div>"
      ],
      "text/plain": [
       "   year  day  hour  trip_duration  VendorID tpep_pickup_datetime  \\\n",
       "0  2023    1     0       0.166667         2  2023-03-01 00:06:43   \n",
       "1  2023    1     0       0.518056         2  2023-03-01 00:08:25   \n",
       "2  2023    1     0       0.239444         1  2023-03-01 00:15:04   \n",
       "3  2023    1     0       0.191111         1  2023-03-01 00:49:37   \n",
       "4  2023    1     0       0.050556         2  2023-03-01 00:08:04   \n",
       "\n",
       "  tpep_dropoff_datetime  passenger_count  trip_distance  RatecodeID  ...  \\\n",
       "0   2023-03-01 00:16:43              1.0           0.00         1.0  ...   \n",
       "1   2023-03-01 00:39:30              2.0          12.40         1.0  ...   \n",
       "2   2023-03-01 00:29:26              0.0           3.30         1.0  ...   \n",
       "3   2023-03-01 01:01:05              1.0           2.90         1.0  ...   \n",
       "4   2023-03-01 00:11:06              1.0           1.23         1.0  ...   \n",
       "\n",
       "  payment_type  fare_amount  extra  mta_tax  tip_amount  tolls_amount  \\\n",
       "0            2          8.6    1.0      0.5        0.00           0.0   \n",
       "1            1         52.7    6.0      0.5       12.54           0.0   \n",
       "2            1         18.4    3.5      0.5        4.65           0.0   \n",
       "3            1         15.6    3.5      0.5        4.10           0.0   \n",
       "4            1          7.2    1.0      0.5        2.44           0.0   \n",
       "\n",
       "   improvement_surcharge  total_amount  congestion_surcharge  Airport_fee  \n",
       "0                    1.0         11.10                   0.0         0.00  \n",
       "1                    1.0         76.49                   2.5         1.25  \n",
       "2                    1.0         28.05                   2.5         0.00  \n",
       "3                    1.0         24.70                   2.5         0.00  \n",
       "4                    1.0         14.64                   2.5         0.00  \n",
       "\n",
       "[5 rows x 23 columns]"
      ]
     },
     "execution_count": 14,
     "metadata": {},
     "output_type": "execute_result"
    }
   ],
   "source": [
    "trips.head()"
   ]
  },
  {
   "cell_type": "markdown",
   "id": "3fa1a696",
   "metadata": {},
   "source": [
    "- Comptage du nombre de passagers"
   ]
  },
  {
   "cell_type": "code",
   "execution_count": 15,
   "id": "9cd9063f",
   "metadata": {},
   "outputs": [
    {
     "name": "stderr",
     "output_type": "stream",
     "text": [
      "C:\\tools\\Anaconda3\\lib\\site-packages\\seaborn\\_decorators.py:36: FutureWarning: Pass the following variable as a keyword arg: x. From version 0.12, the only valid positional argument will be `data`, and passing other arguments without an explicit keyword will result in an error or misinterpretation.\n",
      "  warnings.warn(\n"
     ]
    },
    {
     "data": {
      "image/png": "[encoded data removed]",
      "text/plain": [
       "<Figure size 432x288 with 1 Axes>"
      ]
     },
     "metadata": {
      "needs_background": "light"
     },
     "output_type": "display_data"
    }
   ],
   "source": [
    "sns.countplot(trips[\"passenger_count\"])\n",
    "plt.xlabel(\"Nombre de passagers\")\n",
    "plt.ylabel(\"Nombre de trajets\")\n",
    "plt.show()"
   ]
  },
  {
   "cell_type": "markdown",
   "id": "56d953f9",
   "metadata": {},
   "source": [
    "- Visualisation de la relation entre le type de paiement et le nombre de course"
   ]
  },
  {
   "cell_type": "code",
   "execution_count": 16,
   "id": "c46bbf6b",
   "metadata": {},
   "outputs": [
    {
     "data": {
      "image/png": "[encoded data removed]",
      "text/plain": [
       "<Figure size 432x288 with 1 Axes>"
      ]
     },
     "metadata": {
      "needs_background": "light"
     },
     "output_type": "display_data"
    }
   ],
   "source": [
    "sns.countplot(x='payment_type', hue='VendorID', data=trips)\n",
    "plt.xlabel(\"Type de paiement\")\n",
    "plt.ylabel(\"Nombre de trajets\")\n",
    "plt.title(\"Distribution du type de paiement par fournisseur de taxi\")\n",
    "plt.legend(title=\"Fournisseur\")\n",
    "plt.show()"
   ]
  },
  {
   "cell_type": "markdown",
   "id": "964661a7",
   "metadata": {},
   "source": [
    "- Observation de la distance des trajets"
   ]
  },
  {
   "cell_type": "code",
   "execution_count": 17,
   "id": "576bae79",
   "metadata": {},
   "outputs": [
    {
     "data": {
      "image/png": "[encoded data removed]",
      "text/plain": [
       "<Figure size 432x288 with 1 Axes>"
      ]
     },
     "metadata": {
      "needs_background": "light"
     },
     "output_type": "display_data"
    }
   ],
   "source": [
    "plt.hist(trips['trip_distance'], bins=30)\n",
    "plt.xlabel('Distance du trajet')\n",
    "plt.ylabel('Nombre de trajets')\n",
    "plt.title('Distribution de la distance des trajets')\n",
    "plt.show()"
   ]
  },
  {
   "cell_type": "markdown",
   "id": "96577068",
   "metadata": {},
   "source": [
    "- Aperçu du nombre de trajets par fournisseur"
   ]
  },
  {
   "cell_type": "code",
   "execution_count": 18,
   "id": "dd586ad6",
   "metadata": {},
   "outputs": [
    {
     "data": {
      "image/png": "[encoded data removed]",
      "text/plain": [
       "<Figure size 432x288 with 1 Axes>"
      ]
     },
     "metadata": {
      "needs_background": "light"
     },
     "output_type": "display_data"
    }
   ],
   "source": [
    "vendor_counts = trips['VendorID'].value_counts()\n",
    "plt.bar(vendor_counts.index, vendor_counts.values)\n",
    "plt.xlabel('Fournisseur')\n",
    "plt.ylabel('Nombre de trajets')\n",
    "plt.title('Nombre de trajets par fournisseur')\n",
    "plt.show()"
   ]
  },
  {
   "cell_type": "markdown",
   "id": "f2cf043b",
   "metadata": {},
   "source": [
    "- Visualisation de l'heure de prise en charge"
   ]
  },
  {
   "cell_type": "code",
   "execution_count": 19,
   "id": "27945855",
   "metadata": {},
   "outputs": [
    {
     "data": {
      "image/png": "[encoded data removed]",
      "text/plain": [
       "<Figure size 432x288 with 1 Axes>"
      ]
     },
     "metadata": {
      "needs_background": "light"
     },
     "output_type": "display_data"
    }
   ],
   "source": [
    "# Exemple avec l'heure de prise en charge\n",
    "pickup_counts = trips['tpep_pickup_datetime'].dt.hour.value_counts().sort_index()\n",
    "plt.plot(pickup_counts.index, pickup_counts.values)\n",
    "plt.xlabel('Heure de prise en charge')\n",
    "plt.ylabel('Nombre de trajets')\n",
    "plt.title('Variation du nombre de trajets par heure')\n",
    "plt.show()"
   ]
  },
  {
   "cell_type": "markdown",
   "id": "0895e6d0",
   "metadata": {},
   "source": [
    "- Observation du montant des pourboires"
   ]
  },
  {
   "cell_type": "code",
   "execution_count": 20,
   "id": "5dfc89d9",
   "metadata": {},
   "outputs": [
    {
     "data": {
      "image/png": "[encoded data removed]",
      "text/plain": [
       "<Figure size 432x288 with 1 Axes>"
      ]
     },
     "metadata": {
      "needs_background": "light"
     },
     "output_type": "display_data"
    }
   ],
   "source": [
    "# Exemple avec la variable \"tip_amount\"\n",
    "plt.boxplot(trips['tip_amount'])\n",
    "plt.ylabel('Montant du pourboire')\n",
    "plt.title('Distribution du montant du pourboire')\n",
    "plt.show()"
   ]
  },
  {
   "cell_type": "code",
   "execution_count": 21,
   "id": "bac28b1c",
   "metadata": {},
   "outputs": [
    {
     "data": {
      "text/plain": [
       "361044"
      ]
     },
     "execution_count": 21,
     "metadata": {},
     "output_type": "execute_result"
    }
   ],
   "source": [
    "trips['tip_amount'].idxmax()"
   ]
  },
  {
   "cell_type": "code",
   "execution_count": 22,
   "id": "637a6c9e",
   "metadata": {},
   "outputs": [],
   "source": [
    "trips = trips.drop(361044)"
   ]
  },
  {
   "cell_type": "code",
   "execution_count": 23,
   "id": "ff35ebe8",
   "metadata": {},
   "outputs": [
    {
     "data": {
      "image/png": "[encoded data removed]",
      "text/plain": [
       "<Figure size 432x288 with 1 Axes>"
      ]
     },
     "metadata": {
      "needs_background": "light"
     },
     "output_type": "display_data"
    }
   ],
   "source": [
    "# Créer la figure et l'axe\n",
    "fig, ax = plt.subplots()\n",
    "\n",
    "# Tracer la boîte à moustaches\n",
    "ax.boxplot(trips['tip_amount'])\n",
    "\n",
    "# Ajouter un titre et des étiquettes d'axe\n",
    "ax.set_title(\"Distribution des pourboires\")\n",
    "ax.set_ylabel(\"Montant du pourboire\")\n",
    "\n",
    "# Afficher la figure\n",
    "plt.show()"
   ]
  },
  {
   "cell_type": "code",
   "execution_count": 24,
   "id": "4691cb9d",
   "metadata": {
    "scrolled": true
   },
   "outputs": [
    {
     "data": {
      "image/png": "[encoded data removed]",
      "text/plain": [
       "<Figure size 432x288 with 1 Axes>"
      ]
     },
     "metadata": {
      "needs_background": "light"
     },
     "output_type": "display_data"
    }
   ],
   "source": [
    "# Zoom sur la partie boite\n",
    "fig, ax = plt.subplots()\n",
    "\n",
    "ax.boxplot(trips['tip_amount'])\n",
    "ax.set_title(\"Distribution des pourboires\")\n",
    "ax.set_ylabel(\"Montant du pourboire\")\n",
    "\n",
    "median = trips['tip_amount'].median()\n",
    "ax.set_ylim(bottom=median - 10, top=median + 10)\n",
    "\n",
    "plt.show()"
   ]
  },
  {
   "cell_type": "code",
   "execution_count": 27,
   "id": "9c4e7d81",
   "metadata": {},
   "outputs": [
    {
     "data": {
      "image/png": "[encoded data removed]",
      "text/plain": [
       "<Figure size 432x288 with 1 Axes>"
      ]
     },
     "metadata": {
      "needs_background": "light"
     },
     "output_type": "display_data"
    }
   ],
   "source": [
    "sns.countplot(x='hour', data=trips)\n",
    "plt.show()"
   ]
  },
  {
   "cell_type": "code",
   "execution_count": 28,
   "id": "a312083c",
   "metadata": {
    "scrolled": true
   },
   "outputs": [
    {
     "data": {
      "image/png": "[encoded data removed]",
      "text/plain": [
       "<Figure size 864x576 with 2 Axes>"
      ]
     },
     "metadata": {
      "needs_background": "light"
     },
     "output_type": "display_data"
    }
   ],
   "source": [
    "trips['day_of_week'] = trips['tpep_pickup_datetime'].dt.dayofweek\n",
    "\n",
    "# Calculer le prix moyen des courses en regroupant par jour de la semaine et heure de la journée\n",
    "average_price = trips.groupby(['day_of_week', 'hour'])['total_amount'].mean()\n",
    "\n",
    "# Créer une table pivotante à partir des données\n",
    "pivot_table = average_price.unstack()\n",
    "\n",
    "# Déplacer les étiquettes des jours de la semaine pour commencer par lundi\n",
    "pivot_table = pivot_table.reindex(np.roll(np.arange(7), 1))\n",
    "\n",
    "# Créer le graphique de heatmap\n",
    "fig, ax = plt.subplots(figsize=(12, 8))\n",
    "im = ax.imshow(pivot_table.values, cmap='hot')\n",
    "\n",
    "# Ajouter les étiquettes des axes\n",
    "ax.set_xticks(np.arange(24))\n",
    "ax.set_yticks(np.arange(7))\n",
    "ax.set_xticklabels(np.arange(24))\n",
    "ax.set_yticklabels(['Lundi', 'Mardi', 'Mercredi', 'Jeudi', 'Vendredi', 'Samedi', 'Dimanche'])\n",
    "\n",
    "# Ajouter une barre de couleur\n",
    "cbar = ax.figure.colorbar(im)\n",
    "\n",
    "# Ajouter un titre\n",
    "ax.set_title(\"Prix moyen des courses en fonction du jour de la semaine et de l'heure de la journée\")\n",
    "\n",
    "# Afficher le graphique\n",
    "plt.show()"
   ]
  },
  {
   "cell_type": "markdown",
   "id": "33f21f60",
   "metadata": {},
   "source": [
    "Afficher la matrice de corrélation entre les variables numériques "
   ]
  },
  {
   "cell_type": "code",
   "execution_count": 50,
   "id": "5c891ca6",
   "metadata": {},
   "outputs": [
    {
     "name": "stdout",
     "output_type": "stream",
     "text": [
      "AxesSubplot(0.125,0.125;0.62x0.755)\n"
     ]
    },
    {
     "data": {
      "image/png": "[encoded data removed]",
      "text/plain": [
       "<Figure size 1008x720 with 2 Axes>"
      ]
     },
     "metadata": {
      "needs_background": "light"
     },
     "output_type": "display_data"
    }
   ],
   "source": [
    "import seaborn as sns\n",
    "import matplotlib.pyplot as plt\n",
    "corr1=trips.corr(method='pearson')\n",
    "fig, ax = plt.subplots(figsize=(14,10)) \n",
    "print(sns.heatmap(corr1, annot=True,linewidths=2,ax=ax))"
   ]
  },
  {
   "cell_type": "markdown",
   "id": "943aea14",
   "metadata": {},
   "source": [
    "## Partie 2 : Utilisation des modèles de prédictions"
   ]
  },
  {
   "cell_type": "markdown",
   "id": "f7347131",
   "metadata": {},
   "source": [
    "### 1. Le modèle XGBoost"
   ]
  },
  {
   "cell_type": "code",
   "execution_count": 55,
   "id": "6a6e8615",
   "metadata": {},
   "outputs": [
    {
     "data": {
      "text/html": [
       "<div>\n",
       "<style scoped>\n",
       "    .dataframe tbody tr th:only-of-type {\n",
       "        vertical-align: middle;\n",
       "    }\n",
       "\n",
       "    .dataframe tbody tr th {\n",
       "        vertical-align: top;\n",
       "    }\n",
       "\n",
       "    .dataframe thead th {\n",
       "        text-align: right;\n",
       "    }\n",
       "</style>\n",
       "<table border=\"1\" class=\"dataframe\">\n",
       "  <thead>\n",
       "    <tr style=\"text-align: right;\">\n",
       "      <th></th>\n",
       "      <th>year</th>\n",
       "      <th>day</th>\n",
       "      <th>hour</th>\n",
       "      <th>trip_duration</th>\n",
       "      <th>VendorID</th>\n",
       "      <th>tpep_pickup_datetime</th>\n",
       "      <th>tpep_dropoff_datetime</th>\n",
       "      <th>passenger_count</th>\n",
       "      <th>trip_distance</th>\n",
       "      <th>RatecodeID</th>\n",
       "      <th>store_and_fwd_flag</th>\n",
       "      <th>PULocationID</th>\n",
       "      <th>DOLocationID</th>\n",
       "      <th>payment_type</th>\n",
       "      <th>total_amount</th>\n",
       "    </tr>\n",
       "  </thead>\n",
       "  <tbody>\n",
       "    <tr>\n",
       "      <th>0</th>\n",
       "      <td>2023</td>\n",
       "      <td>1</td>\n",
       "      <td>0</td>\n",
       "      <td>0.166667</td>\n",
       "      <td>2</td>\n",
       "      <td>2023-03-01 00:06:43</td>\n",
       "      <td>2023-03-01 00:16:43</td>\n",
       "      <td>1.0</td>\n",
       "      <td>0.00</td>\n",
       "      <td>1.0</td>\n",
       "      <td>N</td>\n",
       "      <td>238</td>\n",
       "      <td>42</td>\n",
       "      <td>2</td>\n",
       "      <td>11.10</td>\n",
       "    </tr>\n",
       "    <tr>\n",
       "      <th>1</th>\n",
       "      <td>2023</td>\n",
       "      <td>1</td>\n",
       "      <td>0</td>\n",
       "      <td>0.518056</td>\n",
       "      <td>2</td>\n",
       "      <td>2023-03-01 00:08:25</td>\n",
       "      <td>2023-03-01 00:39:30</td>\n",
       "      <td>2.0</td>\n",
       "      <td>12.40</td>\n",
       "      <td>1.0</td>\n",
       "      <td>N</td>\n",
       "      <td>138</td>\n",
       "      <td>231</td>\n",
       "      <td>1</td>\n",
       "      <td>76.49</td>\n",
       "    </tr>\n",
       "    <tr>\n",
       "      <th>2</th>\n",
       "      <td>2023</td>\n",
       "      <td>1</td>\n",
       "      <td>0</td>\n",
       "      <td>0.239444</td>\n",
       "      <td>1</td>\n",
       "      <td>2023-03-01 00:15:04</td>\n",
       "      <td>2023-03-01 00:29:26</td>\n",
       "      <td>0.0</td>\n",
       "      <td>3.30</td>\n",
       "      <td>1.0</td>\n",
       "      <td>N</td>\n",
       "      <td>140</td>\n",
       "      <td>186</td>\n",
       "      <td>1</td>\n",
       "      <td>28.05</td>\n",
       "    </tr>\n",
       "    <tr>\n",
       "      <th>3</th>\n",
       "      <td>2023</td>\n",
       "      <td>1</td>\n",
       "      <td>0</td>\n",
       "      <td>0.191111</td>\n",
       "      <td>1</td>\n",
       "      <td>2023-03-01 00:49:37</td>\n",
       "      <td>2023-03-01 01:01:05</td>\n",
       "      <td>1.0</td>\n",
       "      <td>2.90</td>\n",
       "      <td>1.0</td>\n",
       "      <td>N</td>\n",
       "      <td>140</td>\n",
       "      <td>43</td>\n",
       "      <td>1</td>\n",
       "      <td>24.70</td>\n",
       "    </tr>\n",
       "    <tr>\n",
       "      <th>4</th>\n",
       "      <td>2023</td>\n",
       "      <td>1</td>\n",
       "      <td>0</td>\n",
       "      <td>0.050556</td>\n",
       "      <td>2</td>\n",
       "      <td>2023-03-01 00:08:04</td>\n",
       "      <td>2023-03-01 00:11:06</td>\n",
       "      <td>1.0</td>\n",
       "      <td>1.23</td>\n",
       "      <td>1.0</td>\n",
       "      <td>N</td>\n",
       "      <td>79</td>\n",
       "      <td>137</td>\n",
       "      <td>1</td>\n",
       "      <td>14.64</td>\n",
       "    </tr>\n",
       "  </tbody>\n",
       "</table>\n",
       "</div>"
      ],
      "text/plain": [
       "   year  day  hour  trip_duration  VendorID tpep_pickup_datetime  \\\n",
       "0  2023    1     0       0.166667         2  2023-03-01 00:06:43   \n",
       "1  2023    1     0       0.518056         2  2023-03-01 00:08:25   \n",
       "2  2023    1     0       0.239444         1  2023-03-01 00:15:04   \n",
       "3  2023    1     0       0.191111         1  2023-03-01 00:49:37   \n",
       "4  2023    1     0       0.050556         2  2023-03-01 00:08:04   \n",
       "\n",
       "  tpep_dropoff_datetime  passenger_count  trip_distance  RatecodeID  \\\n",
       "0   2023-03-01 00:16:43              1.0           0.00         1.0   \n",
       "1   2023-03-01 00:39:30              2.0          12.40         1.0   \n",
       "2   2023-03-01 00:29:26              0.0           3.30         1.0   \n",
       "3   2023-03-01 01:01:05              1.0           2.90         1.0   \n",
       "4   2023-03-01 00:11:06              1.0           1.23         1.0   \n",
       "\n",
       "  store_and_fwd_flag  PULocationID  DOLocationID  payment_type  total_amount  \n",
       "0                  N           238            42             2         11.10  \n",
       "1                  N           138           231             1         76.49  \n",
       "2                  N           140           186             1         28.05  \n",
       "3                  N           140            43             1         24.70  \n",
       "4                  N            79           137             1         14.64  "
      ]
     },
     "execution_count": 55,
     "metadata": {},
     "output_type": "execute_result"
    }
   ],
   "source": [
    "trips.drop(['Airport_fee','congestion_surcharge','improvement_surcharge','tolls_amount','tip_amount','mta_tax','extra','fare_amount'], axis = 1, inplace = True)\n",
    "\n",
    "trips.head()"
   ]
  },
  {
   "cell_type": "code",
   "execution_count": 56,
   "id": "aa5198c4",
   "metadata": {},
   "outputs": [],
   "source": [
    "trips['tpep_pickup_datetime'] = pd.to_datetime(trips['tpep_pickup_datetime'], unit='s')\n",
    "trips['tpep_dropoff_datetime'] = pd.to_datetime(trips['tpep_dropoff_datetime'], unit='s')"
   ]
  },
  {
   "cell_type": "code",
   "execution_count": 57,
   "id": "b7e1fac8",
   "metadata": {},
   "outputs": [],
   "source": [
    "trips['tpep_pickup_datetime'] = trips['tpep_pickup_datetime'].dt.day\n",
    "trips['tpep_dropoff_datetime'] = trips['tpep_dropoff_datetime'].dt.day"
   ]
  },
  {
   "cell_type": "code",
   "execution_count": 58,
   "id": "fbafc00a",
   "metadata": {},
   "outputs": [
    {
     "data": {
      "text/html": [
       "<div>\n",
       "<style scoped>\n",
       "    .dataframe tbody tr th:only-of-type {\n",
       "        vertical-align: middle;\n",
       "    }\n",
       "\n",
       "    .dataframe tbody tr th {\n",
       "        vertical-align: top;\n",
       "    }\n",
       "\n",
       "    .dataframe thead th {\n",
       "        text-align: right;\n",
       "    }\n",
       "</style>\n",
       "<table border=\"1\" class=\"dataframe\">\n",
       "  <thead>\n",
       "    <tr style=\"text-align: right;\">\n",
       "      <th></th>\n",
       "      <th>year</th>\n",
       "      <th>day</th>\n",
       "      <th>hour</th>\n",
       "      <th>trip_duration</th>\n",
       "      <th>VendorID</th>\n",
       "      <th>tpep_pickup_datetime</th>\n",
       "      <th>tpep_dropoff_datetime</th>\n",
       "      <th>passenger_count</th>\n",
       "      <th>trip_distance</th>\n",
       "      <th>RatecodeID</th>\n",
       "      <th>store_and_fwd_flag</th>\n",
       "      <th>PULocationID</th>\n",
       "      <th>DOLocationID</th>\n",
       "      <th>payment_type</th>\n",
       "      <th>total_amount</th>\n",
       "    </tr>\n",
       "  </thead>\n",
       "  <tbody>\n",
       "    <tr>\n",
       "      <th>0</th>\n",
       "      <td>2023</td>\n",
       "      <td>1</td>\n",
       "      <td>0</td>\n",
       "      <td>0.166667</td>\n",
       "      <td>2</td>\n",
       "      <td>1</td>\n",
       "      <td>1</td>\n",
       "      <td>1.0</td>\n",
       "      <td>0.00</td>\n",
       "      <td>1.0</td>\n",
       "      <td>N</td>\n",
       "      <td>238</td>\n",
       "      <td>42</td>\n",
       "      <td>2</td>\n",
       "      <td>11.10</td>\n",
       "    </tr>\n",
       "    <tr>\n",
       "      <th>1</th>\n",
       "      <td>2023</td>\n",
       "      <td>1</td>\n",
       "      <td>0</td>\n",
       "      <td>0.518056</td>\n",
       "      <td>2</td>\n",
       "      <td>1</td>\n",
       "      <td>1</td>\n",
       "      <td>2.0</td>\n",
       "      <td>12.40</td>\n",
       "      <td>1.0</td>\n",
       "      <td>N</td>\n",
       "      <td>138</td>\n",
       "      <td>231</td>\n",
       "      <td>1</td>\n",
       "      <td>76.49</td>\n",
       "    </tr>\n",
       "    <tr>\n",
       "      <th>2</th>\n",
       "      <td>2023</td>\n",
       "      <td>1</td>\n",
       "      <td>0</td>\n",
       "      <td>0.239444</td>\n",
       "      <td>1</td>\n",
       "      <td>1</td>\n",
       "      <td>1</td>\n",
       "      <td>0.0</td>\n",
       "      <td>3.30</td>\n",
       "      <td>1.0</td>\n",
       "      <td>N</td>\n",
       "      <td>140</td>\n",
       "      <td>186</td>\n",
       "      <td>1</td>\n",
       "      <td>28.05</td>\n",
       "    </tr>\n",
       "    <tr>\n",
       "      <th>3</th>\n",
       "      <td>2023</td>\n",
       "      <td>1</td>\n",
       "      <td>0</td>\n",
       "      <td>0.191111</td>\n",
       "      <td>1</td>\n",
       "      <td>1</td>\n",
       "      <td>1</td>\n",
       "      <td>1.0</td>\n",
       "      <td>2.90</td>\n",
       "      <td>1.0</td>\n",
       "      <td>N</td>\n",
       "      <td>140</td>\n",
       "      <td>43</td>\n",
       "      <td>1</td>\n",
       "      <td>24.70</td>\n",
       "    </tr>\n",
       "    <tr>\n",
       "      <th>4</th>\n",
       "      <td>2023</td>\n",
       "      <td>1</td>\n",
       "      <td>0</td>\n",
       "      <td>0.050556</td>\n",
       "      <td>2</td>\n",
       "      <td>1</td>\n",
       "      <td>1</td>\n",
       "      <td>1.0</td>\n",
       "      <td>1.23</td>\n",
       "      <td>1.0</td>\n",
       "      <td>N</td>\n",
       "      <td>79</td>\n",
       "      <td>137</td>\n",
       "      <td>1</td>\n",
       "      <td>14.64</td>\n",
       "    </tr>\n",
       "  </tbody>\n",
       "</table>\n",
       "</div>"
      ],
      "text/plain": [
       "   year  day  hour  trip_duration  VendorID  tpep_pickup_datetime  \\\n",
       "0  2023    1     0       0.166667         2                     1   \n",
       "1  2023    1     0       0.518056         2                     1   \n",
       "2  2023    1     0       0.239444         1                     1   \n",
       "3  2023    1     0       0.191111         1                     1   \n",
       "4  2023    1     0       0.050556         2                     1   \n",
       "\n",
       "   tpep_dropoff_datetime  passenger_count  trip_distance  RatecodeID  \\\n",
       "0                      1              1.0           0.00         1.0   \n",
       "1                      1              2.0          12.40         1.0   \n",
       "2                      1              0.0           3.30         1.0   \n",
       "3                      1              1.0           2.90         1.0   \n",
       "4                      1              1.0           1.23         1.0   \n",
       "\n",
       "  store_and_fwd_flag  PULocationID  DOLocationID  payment_type  total_amount  \n",
       "0                  N           238            42             2         11.10  \n",
       "1                  N           138           231             1         76.49  \n",
       "2                  N           140           186             1         28.05  \n",
       "3                  N           140            43             1         24.70  \n",
       "4                  N            79           137             1         14.64  "
      ]
     },
     "execution_count": 58,
     "metadata": {},
     "output_type": "execute_result"
    }
   ],
   "source": [
    "trips.head()"
   ]
  },
  {
   "cell_type": "code",
   "execution_count": 59,
   "id": "ccbd7765",
   "metadata": {},
   "outputs": [
    {
     "name": "stdout",
     "output_type": "stream",
     "text": [
      "year                         0\n",
      "day                          0\n",
      "hour                         0\n",
      "trip_duration                0\n",
      "VendorID                     0\n",
      "tpep_pickup_datetime         0\n",
      "tpep_dropoff_datetime        0\n",
      "passenger_count          87566\n",
      "trip_distance                0\n",
      "RatecodeID               87566\n",
      "store_and_fwd_flag       87566\n",
      "PULocationID                 0\n",
      "DOLocationID                 0\n",
      "payment_type                 0\n",
      "total_amount                 0\n",
      "dtype: int64\n"
     ]
    }
   ],
   "source": [
    "print( trips.isna().sum())"
   ]
  },
  {
   "cell_type": "code",
   "execution_count": 60,
   "id": "f7cc64f9",
   "metadata": {},
   "outputs": [],
   "source": [
    "trips.dropna(subset=[\"passenger_count\"] , inplace=True)\n",
    "trips.drop('store_and_fwd_flag', axis=1, inplace=True)"
   ]
  },
  {
   "cell_type": "code",
   "execution_count": 61,
   "id": "b59c9128",
   "metadata": {},
   "outputs": [
    {
     "name": "stdout",
     "output_type": "stream",
     "text": [
      "year                     0\n",
      "day                      0\n",
      "hour                     0\n",
      "trip_duration            0\n",
      "VendorID                 0\n",
      "tpep_pickup_datetime     0\n",
      "tpep_dropoff_datetime    0\n",
      "passenger_count          0\n",
      "trip_distance            0\n",
      "RatecodeID               0\n",
      "PULocationID             0\n",
      "DOLocationID             0\n",
      "payment_type             0\n",
      "total_amount             0\n",
      "dtype: int64\n"
     ]
    }
   ],
   "source": [
    "print( trips.isna().sum())"
   ]
  },
  {
   "cell_type": "code",
   "execution_count": null,
   "id": "30038b11",
   "metadata": {},
   "outputs": [],
   "source": []
  },
  {
   "cell_type": "code",
   "execution_count": 62,
   "id": "51a05278",
   "metadata": {},
   "outputs": [],
   "source": [
    "import xgboost as xgb\n",
    "from sklearn.datasets import load_breast_cancer\n",
    "from sklearn.model_selection import train_test_split\n",
    "from sklearn.metrics import accuracy_score\n",
    "from sklearn.preprocessing import StandardScaler"
   ]
  },
  {
   "cell_type": "code",
   "execution_count": 63,
   "id": "2574c41a",
   "metadata": {},
   "outputs": [],
   "source": [
    "X = trips.drop('total_amount', axis=1) \n",
    "y = trips['total_amount']"
   ]
  },
  {
   "cell_type": "code",
   "execution_count": 64,
   "id": "cec925a5",
   "metadata": {},
   "outputs": [],
   "source": [
    "X_train, X_test, y_train, y_test = train_test_split(X, y, test_size=0.2, random_state=69)"
   ]
  },
  {
   "cell_type": "code",
   "execution_count": 65,
   "id": "3d72d195",
   "metadata": {},
   "outputs": [],
   "source": [
    "xgb_model = xgb.XGBRegressor()"
   ]
  },
  {
   "cell_type": "code",
   "execution_count": 66,
   "id": "09f73508",
   "metadata": {},
   "outputs": [
    {
     "name": "stdout",
     "output_type": "stream",
     "text": [
      "<class 'pandas.core.frame.DataFrame'>\n",
      "Int64Index: 3285835 entries, 0 to 3316146\n",
      "Data columns (total 14 columns):\n",
      " #   Column                 Dtype  \n",
      "---  ------                 -----  \n",
      " 0   year                   int64  \n",
      " 1   day                    int64  \n",
      " 2   hour                   int64  \n",
      " 3   trip_duration          float64\n",
      " 4   VendorID               int32  \n",
      " 5   tpep_pickup_datetime   int64  \n",
      " 6   tpep_dropoff_datetime  int64  \n",
      " 7   passenger_count        float64\n",
      " 8   trip_distance          float64\n",
      " 9   RatecodeID             float64\n",
      " 10  PULocationID           int32  \n",
      " 11  DOLocationID           int32  \n",
      " 12  payment_type           int64  \n",
      " 13  total_amount           float64\n",
      "dtypes: float64(5), int32(3), int64(6)\n",
      "memory usage: 338.4 MB\n",
      "None\n"
     ]
    }
   ],
   "source": [
    "print(trips.info())"
   ]
  },
  {
   "cell_type": "code",
   "execution_count": 67,
   "id": "2f1b1163",
   "metadata": {},
   "outputs": [
    {
     "data": {
      "text/plain": [
       "XGBRegressor(base_score=None, booster=None, callbacks=None,\n",
       "             colsample_bylevel=None, colsample_bynode=None,\n",
       "             colsample_bytree=None, early_stopping_rounds=None,\n",
       "             enable_categorical=False, eval_metric=None, feature_types=None,\n",
       "             gamma=None, gpu_id=None, grow_policy=None, importance_type=None,\n",
       "             interaction_constraints=None, learning_rate=None, max_bin=None,\n",
       "             max_cat_threshold=None, max_cat_to_onehot=None,\n",
       "             max_delta_step=None, max_depth=None, max_leaves=None,\n",
       "             min_child_weight=None, missing=nan, monotone_constraints=None,\n",
       "             n_estimators=100, n_jobs=None, num_parallel_tree=None,\n",
       "             predictor=None, random_state=None, ...)"
      ]
     },
     "execution_count": 67,
     "metadata": {},
     "output_type": "execute_result"
    }
   ],
   "source": [
    "xgb_model.fit(X_train, y_train)"
   ]
  },
  {
   "cell_type": "code",
   "execution_count": 68,
   "id": "8e8110d7",
   "metadata": {},
   "outputs": [],
   "source": [
    "# Faire des prédictions sur l'ensemble de test\n",
    "y_pred = xgb_model.predict(X_test)"
   ]
  },
  {
   "cell_type": "code",
   "execution_count": 69,
   "id": "5cdee165",
   "metadata": {},
   "outputs": [
    {
     "name": "stdout",
     "output_type": "stream",
     "text": [
      "Coefficient de détermination R² : 0.9585\n"
     ]
    }
   ],
   "source": [
    "from sklearn.metrics import r2_score\n",
    "\n",
    "# Calculer le coefficient de détermination R²\n",
    "r2 = r2_score(y_test, y_pred)\n",
    "\n",
    "# Afficher le coefficient de détermination R²\n",
    "print(\"Coefficient de détermination R² : {:.4f}\".format(r2))"
   ]
  },
  {
   "cell_type": "markdown",
   "id": "c8302d3e",
   "metadata": {},
   "source": [
    "## Partie 3 : Utilisation du modèle Regression Lineaire"
   ]
  },
  {
   "cell_type": "code",
   "execution_count": 70,
   "id": "d2aad368",
   "metadata": {},
   "outputs": [],
   "source": [
    "from sklearn.ensemble import GradientBoostingRegressor\n",
    "from sklearn.metrics import mean_squared_error"
   ]
  },
  {
   "cell_type": "code",
   "execution_count": 71,
   "id": "983b92d8",
   "metadata": {},
   "outputs": [
    {
     "ename": "KeyboardInterrupt",
     "evalue": "",
     "output_type": "error",
     "traceback": [
      "\u001b[1;31m---------------------------------------------------------------------------\u001b[0m",
      "\u001b[1;31mKeyboardInterrupt\u001b[0m                         Traceback (most recent call last)",
      "\u001b[1;32m<ipython-input-71-be0a658f5449>\u001b[0m in \u001b[0;36m<module>\u001b[1;34m\u001b[0m\n\u001b[0;32m      2\u001b[0m \u001b[0mregression_model\u001b[0m \u001b[1;33m=\u001b[0m \u001b[0mGradientBoostingRegressor\u001b[0m\u001b[1;33m(\u001b[0m\u001b[1;33m)\u001b[0m\u001b[1;33m\u001b[0m\u001b[1;33m\u001b[0m\u001b[0m\n\u001b[0;32m      3\u001b[0m \u001b[1;31m# Adapter les données (entraînement du modèle)\u001b[0m\u001b[1;33m\u001b[0m\u001b[1;33m\u001b[0m\u001b[1;33m\u001b[0m\u001b[0m\n\u001b[1;32m----> 4\u001b[1;33m \u001b[0mregression_model\u001b[0m\u001b[1;33m.\u001b[0m\u001b[0mfit\u001b[0m\u001b[1;33m(\u001b[0m\u001b[0mX_train\u001b[0m\u001b[1;33m,\u001b[0m \u001b[0my_train\u001b[0m\u001b[1;33m)\u001b[0m\u001b[1;33m\u001b[0m\u001b[1;33m\u001b[0m\u001b[0m\n\u001b[0m\u001b[0;32m      5\u001b[0m \u001b[1;31m# Prédiction\u001b[0m\u001b[1;33m\u001b[0m\u001b[1;33m\u001b[0m\u001b[1;33m\u001b[0m\u001b[0m\n\u001b[0;32m      6\u001b[0m \u001b[0my_predicted\u001b[0m \u001b[1;33m=\u001b[0m \u001b[0mregression_model\u001b[0m\u001b[1;33m.\u001b[0m\u001b[0mpredict\u001b[0m\u001b[1;33m(\u001b[0m\u001b[0mX_test\u001b[0m\u001b[1;33m)\u001b[0m\u001b[1;33m\u001b[0m\u001b[1;33m\u001b[0m\u001b[0m\n",
      "\u001b[1;32mC:\\tools\\Anaconda3\\lib\\site-packages\\sklearn\\ensemble\\_gb.py\u001b[0m in \u001b[0;36mfit\u001b[1;34m(self, X, y, sample_weight, monitor)\u001b[0m\n\u001b[0;32m    502\u001b[0m \u001b[1;33m\u001b[0m\u001b[0m\n\u001b[0;32m    503\u001b[0m         \u001b[1;31m# fit the boosting stages\u001b[0m\u001b[1;33m\u001b[0m\u001b[1;33m\u001b[0m\u001b[1;33m\u001b[0m\u001b[0m\n\u001b[1;32m--> 504\u001b[1;33m         n_stages = self._fit_stages(\n\u001b[0m\u001b[0;32m    505\u001b[0m             \u001b[0mX\u001b[0m\u001b[1;33m,\u001b[0m \u001b[0my\u001b[0m\u001b[1;33m,\u001b[0m \u001b[0mraw_predictions\u001b[0m\u001b[1;33m,\u001b[0m \u001b[0msample_weight\u001b[0m\u001b[1;33m,\u001b[0m \u001b[0mself\u001b[0m\u001b[1;33m.\u001b[0m\u001b[0m_rng\u001b[0m\u001b[1;33m,\u001b[0m \u001b[0mX_val\u001b[0m\u001b[1;33m,\u001b[0m \u001b[0my_val\u001b[0m\u001b[1;33m,\u001b[0m\u001b[1;33m\u001b[0m\u001b[1;33m\u001b[0m\u001b[0m\n\u001b[0;32m    506\u001b[0m             sample_weight_val, begin_at_stage, monitor)\n",
      "\u001b[1;32mC:\\tools\\Anaconda3\\lib\\site-packages\\sklearn\\ensemble\\_gb.py\u001b[0m in \u001b[0;36m_fit_stages\u001b[1;34m(self, X, y, raw_predictions, sample_weight, random_state, X_val, y_val, sample_weight_val, begin_at_stage, monitor)\u001b[0m\n\u001b[0;32m    559\u001b[0m \u001b[1;33m\u001b[0m\u001b[0m\n\u001b[0;32m    560\u001b[0m             \u001b[1;31m# fit next stage of trees\u001b[0m\u001b[1;33m\u001b[0m\u001b[1;33m\u001b[0m\u001b[1;33m\u001b[0m\u001b[0m\n\u001b[1;32m--> 561\u001b[1;33m             raw_predictions = self._fit_stage(\n\u001b[0m\u001b[0;32m    562\u001b[0m                 \u001b[0mi\u001b[0m\u001b[1;33m,\u001b[0m \u001b[0mX\u001b[0m\u001b[1;33m,\u001b[0m \u001b[0my\u001b[0m\u001b[1;33m,\u001b[0m \u001b[0mraw_predictions\u001b[0m\u001b[1;33m,\u001b[0m \u001b[0msample_weight\u001b[0m\u001b[1;33m,\u001b[0m \u001b[0msample_mask\u001b[0m\u001b[1;33m,\u001b[0m\u001b[1;33m\u001b[0m\u001b[1;33m\u001b[0m\u001b[0m\n\u001b[0;32m    563\u001b[0m                 random_state, X_csc, X_csr)\n",
      "\u001b[1;32mC:\\tools\\Anaconda3\\lib\\site-packages\\sklearn\\ensemble\\_gb.py\u001b[0m in \u001b[0;36m_fit_stage\u001b[1;34m(self, i, X, y, raw_predictions, sample_weight, sample_mask, random_state, X_csc, X_csr)\u001b[0m\n\u001b[0;32m    212\u001b[0m \u001b[1;33m\u001b[0m\u001b[0m\n\u001b[0;32m    213\u001b[0m             \u001b[0mX\u001b[0m \u001b[1;33m=\u001b[0m \u001b[0mX_csr\u001b[0m \u001b[1;32mif\u001b[0m \u001b[0mX_csr\u001b[0m \u001b[1;32mis\u001b[0m \u001b[1;32mnot\u001b[0m \u001b[1;32mNone\u001b[0m \u001b[1;32melse\u001b[0m \u001b[0mX\u001b[0m\u001b[1;33m\u001b[0m\u001b[1;33m\u001b[0m\u001b[0m\n\u001b[1;32m--> 214\u001b[1;33m             tree.fit(X, residual, sample_weight=sample_weight,\n\u001b[0m\u001b[0;32m    215\u001b[0m                      check_input=False)\n\u001b[0;32m    216\u001b[0m \u001b[1;33m\u001b[0m\u001b[0m\n",
      "\u001b[1;32mC:\\tools\\Anaconda3\\lib\\site-packages\\sklearn\\tree\\_classes.py\u001b[0m in \u001b[0;36mfit\u001b[1;34m(self, X, y, sample_weight, check_input, X_idx_sorted)\u001b[0m\n\u001b[0;32m   1245\u001b[0m         \"\"\"\n\u001b[0;32m   1246\u001b[0m \u001b[1;33m\u001b[0m\u001b[0m\n\u001b[1;32m-> 1247\u001b[1;33m         super().fit(\n\u001b[0m\u001b[0;32m   1248\u001b[0m             \u001b[0mX\u001b[0m\u001b[1;33m,\u001b[0m \u001b[0my\u001b[0m\u001b[1;33m,\u001b[0m\u001b[1;33m\u001b[0m\u001b[1;33m\u001b[0m\u001b[0m\n\u001b[0;32m   1249\u001b[0m             \u001b[0msample_weight\u001b[0m\u001b[1;33m=\u001b[0m\u001b[0msample_weight\u001b[0m\u001b[1;33m,\u001b[0m\u001b[1;33m\u001b[0m\u001b[1;33m\u001b[0m\u001b[0m\n",
      "\u001b[1;32mC:\\tools\\Anaconda3\\lib\\site-packages\\sklearn\\tree\\_classes.py\u001b[0m in \u001b[0;36mfit\u001b[1;34m(self, X, y, sample_weight, check_input, X_idx_sorted)\u001b[0m\n\u001b[0;32m    387\u001b[0m                                            min_impurity_split)\n\u001b[0;32m    388\u001b[0m \u001b[1;33m\u001b[0m\u001b[0m\n\u001b[1;32m--> 389\u001b[1;33m         \u001b[0mbuilder\u001b[0m\u001b[1;33m.\u001b[0m\u001b[0mbuild\u001b[0m\u001b[1;33m(\u001b[0m\u001b[0mself\u001b[0m\u001b[1;33m.\u001b[0m\u001b[0mtree_\u001b[0m\u001b[1;33m,\u001b[0m \u001b[0mX\u001b[0m\u001b[1;33m,\u001b[0m \u001b[0my\u001b[0m\u001b[1;33m,\u001b[0m \u001b[0msample_weight\u001b[0m\u001b[1;33m)\u001b[0m\u001b[1;33m\u001b[0m\u001b[1;33m\u001b[0m\u001b[0m\n\u001b[0m\u001b[0;32m    390\u001b[0m \u001b[1;33m\u001b[0m\u001b[0m\n\u001b[0;32m    391\u001b[0m         \u001b[1;32mif\u001b[0m \u001b[0mself\u001b[0m\u001b[1;33m.\u001b[0m\u001b[0mn_outputs_\u001b[0m \u001b[1;33m==\u001b[0m \u001b[1;36m1\u001b[0m \u001b[1;32mand\u001b[0m \u001b[0mis_classifier\u001b[0m\u001b[1;33m(\u001b[0m\u001b[0mself\u001b[0m\u001b[1;33m)\u001b[0m\u001b[1;33m:\u001b[0m\u001b[1;33m\u001b[0m\u001b[1;33m\u001b[0m\u001b[0m\n",
      "\u001b[1;31mKeyboardInterrupt\u001b[0m: "
     ]
    }
   ],
   "source": [
    "# initialisation du modèle\n",
    "regression_model = GradientBoostingRegressor()\n",
    "# Adapter les données (entraînement du modèle)\n",
    "regression_model.fit(X_train, y_train)\n",
    "# Prédiction\n",
    "y_predicted = regression_model.predict(X_test)"
   ]
  },
  {
   "cell_type": "code",
   "execution_count": null,
   "id": "43bc2d24",
   "metadata": {},
   "outputs": [],
   "source": [
    "# Évaluation du modèle\n",
    "rmse = mean_squared_error(y_test, y_predicted)\n",
    "r2 = r2_score(y_test, y_predicted)"
   ]
  },
  {
   "cell_type": "code",
   "execution_count": null,
   "id": "d333cf4b",
   "metadata": {},
   "outputs": [],
   "source": [
    "# Affichage des valeurs\n",
    "print(\"Pente : \" ,regression_model.coef_)\n",
    "print(\"Ordonnée à l'origine : \", regression_model.intercept_)\n",
    "print(\"Racine carrée de l'erreur quadratique moyenne : \", rmse)\n",
    "print('Score R2 : ', r2)"
   ]
  },
  {
   "cell_type": "code",
   "execution_count": 88,
   "id": "bee78af7",
   "metadata": {},
   "outputs": [
    {
     "data": {
      "image/png": "[encoded data removed]",
      "text/plain": [
       "<Figure size 432x288 with 1 Axes>"
      ]
     },
     "metadata": {
      "needs_background": "light"
     },
     "output_type": "display_data"
    }
   ],
   "source": [
    "# Valeurs prédites\n",
    "plt.plot(X_test, y_predicted, color='r')\n",
    "plt.show()"
   ]
  },
  {
   "cell_type": "markdown",
   "id": "5d5a5298",
   "metadata": {},
   "source": [
    "### Partie 4 Réseaux Neurones "
   ]
  },
  {
   "cell_type": "code",
   "execution_count": 40,
   "id": "7454653e",
   "metadata": {},
   "outputs": [
    {
     "name": "stdout",
     "output_type": "stream",
     "text": [
      "Keras est déjà installé.\n",
      "TensorFlow est déjà installé.\n",
      "Keras et TensorFlow sont bien installés et compatibles.\n"
     ]
    }
   ],
   "source": [
    "# Vérifier si Keras est installé (bibliothèque de  réseaux de neurones)\n",
    "try:\n",
    "    import keras\n",
    "    print('Keras est déjà installé.')\n",
    "except ImportError:\n",
    "    print(\"Keras n'est pas installé. Installation en cours...\")\n",
    "    !pip install keras\n",
    "# Vérifier si TensorFlow est installé (bibliothèque de calcul numérique en Apprentissage profond)\n",
    "try:\n",
    "    import tensorflow as tf\n",
    "    print('TensorFlow est déjà installé.')\n",
    "except ImportError:\n",
    "    print(\"TensorFlow n'est pas installé. Installation en cours...\")\n",
    "    !pip install tensorflow\n",
    "\n",
    "# Vérifier si les versions de Keras et de TensorFlow sont compatibles\n",
    "if keras.__version__ != tf.keras.__version__:\n",
    "    print('Warning: Les versions de  Keras et TensorFlow ne sont pas compatible.')\n",
    "else:\n",
    "    print('Keras et TensorFlow sont bien installés et compatibles.')"
   ]
  },
  {
   "cell_type": "code",
   "execution_count": 95,
   "id": "c8b65fb6",
   "metadata": {},
   "outputs": [],
   "source": [
    "from tensorflow.keras.models import Sequential\n",
    "from tensorflow.keras.layers import Dense\n",
    "\n",
    "# Création du modèle\n",
    "model = Sequential()\n",
    "model.add(Dense(10, input_dim=X_train.shape[1], activation='relu')) #  Couche cachée qui contient 10 neurones\n",
    "model.add(Dense(5, activation='relu')) #  Couche cachée qui contient 10 neurones\n",
    "model.add(Dense(1, activation='linear')) # Couche de sortie avec un seul neurone (entre 0 et 1)\n",
    "\n",
    "# Compilation du modèle (fonction model.compile)\n",
    "model.compile(loss='mse', optimizer='adam', metrics=['accuracy'])\n"
   ]
  },
  {
   "cell_type": "code",
   "execution_count": 96,
   "id": "79053cfa",
   "metadata": {},
   "outputs": [
    {
     "name": "stdout",
     "output_type": "stream",
     "text": [
      "Epoch 1/10\n",
      "210294/210294 [==============================] - 205s 974us/step - loss: 124.3043 - accuracy: 4.8504e-05 - val_loss: 85.3407 - val_accuracy: 4.1846e-05\n",
      "Epoch 2/10\n",
      "210294/210294 [==============================] - 208s 991us/step - loss: 93.1055 - accuracy: 4.8979e-05 - val_loss: 72.1412 - val_accuracy: 5.3259e-05\n",
      "Epoch 3/10\n",
      "210294/210294 [==============================] - 206s 980us/step - loss: 92.8493 - accuracy: 4.8979e-05 - val_loss: 78.5710 - val_accuracy: 5.3259e-05\n",
      "Epoch 4/10\n",
      "210294/210294 [==============================] - 209s 993us/step - loss: 73.5063 - accuracy: 4.8979e-05 - val_loss: 71.7793 - val_accuracy: 5.3259e-05\n",
      "Epoch 5/10\n",
      "210294/210294 [==============================] - 210s 998us/step - loss: 73.4755 - accuracy: 4.8979e-05 - val_loss: 75.4545 - val_accuracy: 5.3259e-05\n",
      "Epoch 6/10\n",
      "210294/210294 [==============================] - 209s 995us/step - loss: 72.4178 - accuracy: 4.8979e-05 - val_loss: 66.8320 - val_accuracy: 5.3259e-05\n",
      "Epoch 7/10\n",
      "210294/210294 [==============================] - 211s 1ms/step - loss: 71.2198 - accuracy: 4.8979e-05 - val_loss: 62.6729 - val_accuracy: 5.3259e-05\n",
      "Epoch 8/10\n",
      "210294/210294 [==============================] - 206s 979us/step - loss: 73.2802 - accuracy: 4.8979e-05 - val_loss: 74.6557 - val_accuracy: 5.3259e-05\n",
      "Epoch 9/10\n",
      "210294/210294 [==============================] - 206s 980us/step - loss: 74.9635 - accuracy: 4.8979e-05 - val_loss: 74.0811 - val_accuracy: 5.3259e-05\n",
      "Epoch 10/10\n",
      "210294/210294 [==============================] - 208s 990us/step - loss: 71.1527 - accuracy: 4.8979e-05 - val_loss: 63.1453 - val_accuracy: 5.3259e-05\n"
     ]
    }
   ],
   "source": [
    "# Entraînement du modèle (fonction fit() )\n",
    "history = model.fit(X_train, y_train, epochs=10, batch_size=10, validation_split=0.2)"
   ]
  },
  {
   "cell_type": "code",
   "execution_count": 97,
   "id": "4cce06d1",
   "metadata": {},
   "outputs": [
    {
     "name": "stdout",
     "output_type": "stream",
     "text": [
      "20537/20537 [==============================] - 17s 804us/step - loss: 61.8364 - accuracy: 5.9346e-05\n",
      "Taux de perte : 61.83640670776367\n",
      "Taux de classification : 5.934555520070717e-05\n"
     ]
    }
   ],
   "source": [
    "# Evaluation du modèle \n",
    "test_loss, test_acc = model.evaluate(X_test, y_test)\n",
    "print('Taux de perte :', test_loss)\n",
    "print('Taux de classification :', test_acc)"
   ]
  },
  {
   "cell_type": "code",
   "execution_count": null,
   "id": "0f29fdaf",
   "metadata": {},
   "outputs": [],
   "source": []
  },
  {
   "cell_type": "code",
   "execution_count": null,
   "id": "f83a5053",
   "metadata": {},
   "outputs": [],
   "source": []
  }
 ],
 "metadata": {
  "kernelspec": {
   "display_name": "Python 3",
   "language": "python",
   "name": "python3"
  },
  "language_info": {
   "codemirror_mode": {
    "name": "ipython",
    "version": 3
   },
   "file_extension": ".py",
   "mimetype": "text/x-python",
   "name": "python",
   "nbconvert_exporter": "python",
   "pygments_lexer": "ipython3",
   "version": "3.8.8"
  }
 },
 "nbformat": 4,
 "nbformat_minor": 5
}
